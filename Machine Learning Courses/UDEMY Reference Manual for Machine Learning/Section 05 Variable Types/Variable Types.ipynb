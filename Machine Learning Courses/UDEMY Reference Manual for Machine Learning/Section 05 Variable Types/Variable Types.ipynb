{
 "cells": [
  {
   "cell_type": "markdown",
   "id": "47ffb182",
   "metadata": {},
   "source": [
    "# <font color='IndianRed'> Types of Variables in Python. </font>"
   ]
  },
  {
   "cell_type": "markdown",
   "id": "968a30e4",
   "metadata": {},
   "source": [
    "## <font color='cornflowerblue'> Temporal Variables. </font>"
   ]
  },
  {
   "cell_type": "code",
   "execution_count": 1,
   "id": "a0e8997a",
   "metadata": {
    "ExecuteTime": {
     "end_time": "2023-04-01T06:35:01.240585Z",
     "start_time": "2023-04-01T06:35:01.222054Z"
    }
   },
   "outputs": [],
   "source": [
    "import datetime"
   ]
  },
  {
   "cell_type": "code",
   "execution_count": 2,
   "id": "2dd1cf10",
   "metadata": {
    "ExecuteTime": {
     "end_time": "2023-04-01T06:35:38.692463Z",
     "start_time": "2023-04-01T06:35:38.665450Z"
    }
   },
   "outputs": [
    {
     "data": {
      "text/plain": [
       "datetime.date(2020, 9, 1)"
      ]
     },
     "execution_count": 2,
     "metadata": {},
     "output_type": "execute_result"
    }
   ],
   "source": [
    "# Syntax date(yyyy, mm, dd)\n",
    "simple_date = datetime.date(2020, 9, 1 )\n",
    "simple_date"
   ]
  },
  {
   "cell_type": "code",
   "execution_count": 4,
   "id": "efb4f904",
   "metadata": {
    "ExecuteTime": {
     "end_time": "2023-04-01T06:37:15.388704Z",
     "start_time": "2023-04-01T06:37:15.375702Z"
    }
   },
   "outputs": [
    {
     "data": {
      "text/plain": [
       "datetime.date(2023, 4, 1)"
      ]
     },
     "execution_count": 4,
     "metadata": {},
     "output_type": "execute_result"
    }
   ],
   "source": [
    "# Current day\n",
    "current_date = datetime.date.today()\n",
    "current_date"
   ]
  },
  {
   "cell_type": "code",
   "execution_count": 10,
   "id": "b902c0d6",
   "metadata": {
    "ExecuteTime": {
     "end_time": "2023-04-01T06:39:46.245087Z",
     "start_time": "2023-04-01T06:39:46.228082Z"
    }
   },
   "outputs": [
    {
     "data": {
      "text/plain": [
       "datetime.date(2020, 5, 12)"
      ]
     },
     "execution_count": 10,
     "metadata": {},
     "output_type": "execute_result"
    }
   ],
   "source": [
    "# Generate a day from counting. \n",
    "simple_date = datetime.date.fromisocalendar(year = 2020, \n",
    "                                            week = 20, \n",
    "                                            day = 2)\n",
    "simple_date"
   ]
  },
  {
   "cell_type": "code",
   "execution_count": 11,
   "id": "3af4e8ee",
   "metadata": {
    "ExecuteTime": {
     "end_time": "2023-04-01T06:41:19.636847Z",
     "start_time": "2023-04-01T06:41:19.617845Z"
    }
   },
   "outputs": [
    {
     "name": "stdout",
     "output_type": "stream",
     "text": [
      "2020\n",
      "5\n",
      "12\n"
     ]
    }
   ],
   "source": [
    "# Atributes\n",
    "print(simple_date.year)\n",
    "print(simple_date.month)\n",
    "print(simple_date.day)"
   ]
  },
  {
   "cell_type": "code",
   "execution_count": null,
   "id": "73344bf6",
   "metadata": {},
   "outputs": [],
   "source": []
  }
 ],
 "metadata": {
  "kernelspec": {
   "display_name": "Python 3 (ipykernel)",
   "language": "python",
   "name": "python3"
  },
  "language_info": {
   "codemirror_mode": {
    "name": "ipython",
    "version": 3
   },
   "file_extension": ".py",
   "mimetype": "text/x-python",
   "name": "python",
   "nbconvert_exporter": "python",
   "pygments_lexer": "ipython3",
   "version": "3.8.15"
  },
  "toc": {
   "base_numbering": 1,
   "nav_menu": {},
   "number_sections": false,
   "sideBar": true,
   "skip_h1_title": false,
   "title_cell": "Table of Contents",
   "title_sidebar": "Contents",
   "toc_cell": false,
   "toc_position": {},
   "toc_section_display": true,
   "toc_window_display": true
  },
  "varInspector": {
   "cols": {
    "lenName": 16,
    "lenType": 16,
    "lenVar": 40
   },
   "kernels_config": {
    "python": {
     "delete_cmd_postfix": "",
     "delete_cmd_prefix": "del ",
     "library": "var_list.py",
     "varRefreshCmd": "print(var_dic_list())"
    },
    "r": {
     "delete_cmd_postfix": ") ",
     "delete_cmd_prefix": "rm(",
     "library": "var_list.r",
     "varRefreshCmd": "cat(var_dic_list()) "
    }
   },
   "types_to_exclude": [
    "module",
    "function",
    "builtin_function_or_method",
    "instance",
    "_Feature"
   ],
   "window_display": false
  }
 },
 "nbformat": 4,
 "nbformat_minor": 5
}
